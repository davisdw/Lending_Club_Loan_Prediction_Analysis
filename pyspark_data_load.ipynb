{
  "cells": [
    {
      "cell_type": "markdown",
      "metadata": {
        "colab_type": "text",
        "id": "view-in-github"
      },
      "source": [
        "<a href=\"https://colab.research.google.com/github/davisdw/Lending_Tree_Loan_Prediction_Analysis/blob/main/pyspark_data_load.ipynb\" target=\"_parent\"><img src=\"https://colab.research.google.com/assets/colab-badge.svg\" alt=\"Open In Colab\"/></a>"
      ]
    },
    {
      "cell_type": "code",
      "execution_count": 1,
      "metadata": {
        "colab": {
          "base_uri": "https://localhost:8080/"
        },
        "id": "rBG_8QUSOBEi",
        "outputId": "94a480ab-133d-4dad-eaa8-8744336fa72d"
      },
      "outputs": [
        {
          "data": {
            "text/plain": [
              "'\\n\\nimport boto3\\nimport os\\nimport awsKeyConfig\\n\\n#included the os enviorment to access the keyID and secret key from the config file\\n\\n\\n\\nos.environ[\"AWS_DEFAULT_REGION\"] = \\'us-east-2\\'\\nos.environ[\"aws_access_key_id\"] = \\'keyID\\'\\nos.environ[\"aws_secret_access_key\"] = \\'secretKey\\'\\n\\nspark_version = \\'spark-3.5.1\\'\\nos.environ[\\'SPARK_VERSION\\']=spark_version\\n\\n# Install Spark and Java\\n!apt-get update\\n!apt-get install openjdk-11-jdk-headless -qq > /dev/null\\n!wget -q http://www.apache.org/dist/spark/$SPARK_VERSION/$SPARK_VERSION-bin-hadoop3.tgz\\n!tar xf $SPARK_VERSION-bin-hadoop3.tgz\\n%pip install -q findspark\\n%pip install boto3\\n\\n\\n# Set Environment Variables\\nos.environ[\"JAVA_HOME\"] = \"/usr/lib/jvm/java-11-openjdk-amd64\"\\nos.environ[\"SPARK_HOME\"] = f\"/content/{spark_version}-bin-hadoop3\"\\n\\n'"
            ]
          },
          "execution_count": 1,
          "metadata": {},
          "output_type": "execute_result"
        }
      ],
      "source": [
        "# Find the latest version of spark 3.x  from http://www.apache.org/dist/spark/ and enter as the spark version\n",
        "# For example:\n",
        "# spark_version = 'spark-3.4.0'\n",
        "\n",
        "\"\"\"\n",
        "import os\n",
        "\n",
        "#included the os enviorment to access the keyID and secret key from the config file\n",
        "\n",
        "\n",
        "os.environ[\"AWS_DEFAULT_REGION\"] = 'us-east-2'\n",
        "os.environ[\"aws_access_key_id\"] = 'keyID'\n",
        "os.environ[\"aws_secret_access_key\"] = 'secretKey'\n",
        "\n",
        "spark_version = 'spark-3.5.1'\n",
        "os.environ['SPARK_VERSION']=spark_version\n",
        "\n",
        "# Install Spark and Java\n",
        "!apt-get update\n",
        "!apt-get install openjdk-11-jdk-headless -qq > /dev/null\n",
        "!wget -q http://www.apache.org/dist/spark/$SPARK_VERSION/$SPARK_VERSION-bin-hadoop3.tgz\n",
        "!tar xf $SPARK_VERSION-bin-hadoop3.tgz\n",
        "%pip install -q findspark\n",
        "%pip install boto3\n",
        "\n",
        "\n",
        "# Set Environment Variables\n",
        "os.environ[\"JAVA_HOME\"] = \"/usr/lib/jvm/java-11-openjdk-amd64\"\n",
        "os.environ[\"SPARK_HOME\"] = f\"/content/{spark_version}-bin-hadoop3\"\n",
        "\n",
        "import findspark\n",
        "findspark.init()\n",
        "\n",
        "import pyspark\n",
        "from pyspark.sql import SparkSession\n",
        "from pyspark import SparkContext, SparkConf\n",
        "\n",
        "\"\"\""
      ]
    }
  ],
  "metadata": {
    "colab": {
      "authorship_tag": "ABX9TyOZt4tj6iePbspE7kw46hvr",
      "include_colab_link": true,
      "provenance": []
    },
    "kernelspec": {
      "display_name": "Python 3",
      "name": "python3"
    },
    "language_info": {
      "codemirror_mode": {
        "name": "ipython",
        "version": 3
      },
      "file_extension": ".py",
      "mimetype": "text/x-python",
      "name": "python",
      "nbconvert_exporter": "python",
      "pygments_lexer": "ipython3",
      "version": "3.10.13"
    }
  },
  "nbformat": 4,
  "nbformat_minor": 0
}
