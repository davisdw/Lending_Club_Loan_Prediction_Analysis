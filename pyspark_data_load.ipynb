{
  "cells": [
    {
      "cell_type": "markdown",
      "metadata": {
        "id": "view-in-github",
        "colab_type": "text"
      },
      "source": [
        "<a href=\"https://colab.research.google.com/github/davisdw/Lending_Tree_Loan_Prediction_Analysis/blob/main/pyspark_data_load.ipynb\" target=\"_parent\"><img src=\"https://colab.research.google.com/assets/colab-badge.svg\" alt=\"Open In Colab\"/></a>"
      ]
    },
    {
      "cell_type": "code",
      "execution_count": 1,
      "metadata": {
        "colab": {
          "base_uri": "https://localhost:8080/"
        },
        "id": "rBG_8QUSOBEi",
        "outputId": "25dd6eb8-3189-4ad1-d26f-c47c0e8b70aa"
      },
      "outputs": [
        {
          "output_type": "stream",
          "name": "stdout",
          "text": [
            "\r0% [Working]\r            \rGet:1 https://cloud.r-project.org/bin/linux/ubuntu jammy-cran40/ InRelease [3,626 B]\n",
            "\r0% [Connecting to archive.ubuntu.com (185.125.190.39)] [Connecting to security.ubuntu.com (185.125.1\r0% [Connecting to archive.ubuntu.com (185.125.190.39)] [Connecting to security.ubuntu.com (185.125.1\r                                                                                                    \rGet:2 https://developer.download.nvidia.com/compute/cuda/repos/ubuntu2204/x86_64  InRelease [1,581 B]\n",
            "Hit:3 http://archive.ubuntu.com/ubuntu jammy InRelease\n",
            "Get:4 http://security.ubuntu.com/ubuntu jammy-security InRelease [110 kB]\n",
            "Get:5 http://archive.ubuntu.com/ubuntu jammy-updates InRelease [119 kB]\n",
            "Get:6 https://developer.download.nvidia.com/compute/cuda/repos/ubuntu2204/x86_64  Packages [733 kB]\n",
            "Hit:7 https://ppa.launchpadcontent.net/c2d4u.team/c2d4u4.0+/ubuntu jammy InRelease\n",
            "Hit:8 https://ppa.launchpadcontent.net/deadsnakes/ppa/ubuntu jammy InRelease\n",
            "Hit:9 http://archive.ubuntu.com/ubuntu jammy-backports InRelease\n",
            "Hit:10 https://ppa.launchpadcontent.net/graphics-drivers/ppa/ubuntu jammy InRelease\n",
            "Hit:11 https://ppa.launchpadcontent.net/ubuntugis/ppa/ubuntu jammy InRelease\n",
            "Get:12 http://security.ubuntu.com/ubuntu jammy-security/universe amd64 Packages [1,076 kB]\n",
            "Get:13 http://archive.ubuntu.com/ubuntu jammy-updates/universe amd64 Packages [1,347 kB]\n",
            "Get:14 http://security.ubuntu.com/ubuntu jammy-security/restricted amd64 Packages [1,894 kB]\n",
            "Get:15 http://security.ubuntu.com/ubuntu jammy-security/main amd64 Packages [1,522 kB]\n",
            "Get:16 http://archive.ubuntu.com/ubuntu jammy-updates/restricted amd64 Packages [1,932 kB]\n",
            "Get:17 http://archive.ubuntu.com/ubuntu jammy-updates/main amd64 Packages [1,801 kB]\n",
            "Fetched 10.5 MB in 2s (5,498 kB/s)\n",
            "Reading package lists... Done\n"
          ]
        }
      ],
      "source": [
        "# Find the latest version of spark 3.x  from http://www.apache.org/dist/spark/ and enter as the spark version\n",
        "# For example:\n",
        "# spark_version = 'spark-3.4.0'\n",
        "\n",
        "import os\n",
        "\n",
        "spark_version = 'spark-3.5.1'\n",
        "os.environ['SPARK_VERSION']=spark_version\n",
        "\n",
        "# Install Spark and Java\n",
        "!apt-get update\n",
        "!apt-get install openjdk-11-jdk-headless -qq > /dev/null\n",
        "!wget -q http://www.apache.org/dist/spark/$SPARK_VERSION/$SPARK_VERSION-bin-hadoop3.tgz\n",
        "!tar xf $SPARK_VERSION-bin-hadoop3.tgz\n",
        "%pip install -q findspark\n",
        "\n",
        "# Set Environment Variables\n",
        "os.environ[\"JAVA_HOME\"] = \"/usr/lib/jvm/java-11-openjdk-amd64\"\n",
        "os.environ[\"SPARK_HOME\"] = f\"/content/{spark_version}-bin-hadoop3\"\n",
        "\n",
        "import findspark\n",
        "findspark.init()"
      ]
    },
    {
      "cell_type": "code",
      "source": [
        "# Mounted Google Drive to access Data Source *DO NOT RERUN*\n",
        "from google.colab import drive\n",
        "drive.mount('/content/drive')"
      ],
      "metadata": {
        "colab": {
          "base_uri": "https://localhost:8080/"
        },
        "id": "rwA4GFsoVXCV",
        "outputId": "65819100-39e6-402d-dd96-4aae68348fea"
      },
      "execution_count": 2,
      "outputs": [
        {
          "output_type": "stream",
          "name": "stdout",
          "text": [
            "Mounted at /content/drive\n"
          ]
        }
      ]
    },
    {
      "cell_type": "code",
      "source": [
        "import pyspark\n",
        "from pyspark.sql import SparkSession\n",
        "\n",
        "# Create a SparkSession\n",
        "spark = SparkSession.builder.appName(\"SparkSQL\").getOrCreate()"
      ],
      "metadata": {
        "id": "v5q7Q9hPT87J"
      },
      "execution_count": 3,
      "outputs": []
    },
    {
      "cell_type": "markdown",
      "source": [
        "Import accepted dataset, cache temp table and partitioned/export the data into CSV"
      ],
      "metadata": {
        "id": "393z0o79vWNQ"
      }
    },
    {
      "cell_type": "code",
      "source": [
        "from pyspark import SparkFiles\n",
        "\n",
        "url = \"/content/drive/MyDrive/Lending_Club_Data_Source/accepted_2007_to_2018Q4.csv\"\n",
        "\n",
        "spark.sparkContext.addFile(url)\n",
        "loan_accept_df = spark.read.csv(SparkFiles.get(\"accepted_2007_to_2018Q4.csv\"), sep=\",\", header=True)\n",
        "\n",
        "# Display the Data\n",
        "loan_accept_df.show()"
      ],
      "metadata": {
        "colab": {
          "base_uri": "https://localhost:8080/"
        },
        "id": "SM4Q2mnKUFHx",
        "outputId": "49ec5146-4800-41df-ce23-75945af88398"
      },
      "execution_count": 4,
      "outputs": [
        {
          "output_type": "stream",
          "name": "stdout",
          "text": [
            "+--------+---------+---------+-----------+---------------+----------+--------+-----------+-----+---------+--------------------+----------+--------------+----------+-------------------+--------+-----------+----------+--------------------+----+------------------+--------------------+--------+----------+-----+-----------+----------------+--------------+---------------+--------------+----------------------+----------------------+--------+-------+---------+----------+---------+-------------------+---------+-------------+------------------+---------------+---------------+-------------+------------------+----------+-----------------------+------------+---------------+------------+------------------+--------------------+-------------------+--------------------------+---------------------------+-----------+----------------+----------------+---------+-------------------------+--------------+------------+-----------+-----------+-----------+-----------+-----------+------------------+------------+-------+-----------+-----------+----------+--------+----------------+------+-----------+------------+--------------------+-----------+--------------+-------+------------------------+-----------+------------------+--------------------+---------------------+--------------+--------+--------------------+------------------------+---------------------+------------------------------+---------------------+--------------+---------------+-----------+---------+---------+-------------+-------------+-------------------+--------+----------------+------------+------------------+------------------+--------------+----------------+--------------------+---------+---------------+-----------------+--------------+--------------------------+---------------+----------------------+-----------------------+------------------------+----------------------+----------------+----------------+------------------+-------------------+---------------------+--------------------------------+----------------------------------+-----------------------------------+-------------+-------------+---------------+---------------+-------------+---------------+-------------------+-----------------+-----------------------+---------------+------------+--------------------+------------------------------------------+------------------------------+----------------------------+-------------------+--------------------+-------------------------+-----------------+---------------+-----------------+---------------------+---------------+\n",
            "|      id|member_id|loan_amnt|funded_amnt|funded_amnt_inv|      term|int_rate|installment|grade|sub_grade|           emp_title|emp_length|home_ownership|annual_inc|verification_status| issue_d|loan_status|pymnt_plan|                 url|desc|           purpose|               title|zip_code|addr_state|  dti|delinq_2yrs|earliest_cr_line|fico_range_low|fico_range_high|inq_last_6mths|mths_since_last_delinq|mths_since_last_record|open_acc|pub_rec|revol_bal|revol_util|total_acc|initial_list_status|out_prncp|out_prncp_inv|       total_pymnt|total_pymnt_inv|total_rec_prncp|total_rec_int|total_rec_late_fee|recoveries|collection_recovery_fee|last_pymnt_d|last_pymnt_amnt|next_pymnt_d|last_credit_pull_d|last_fico_range_high|last_fico_range_low|collections_12_mths_ex_med|mths_since_last_major_derog|policy_code|application_type|annual_inc_joint|dti_joint|verification_status_joint|acc_now_delinq|tot_coll_amt|tot_cur_bal|open_acc_6m|open_act_il|open_il_12m|open_il_24m|mths_since_rcnt_il|total_bal_il|il_util|open_rv_12m|open_rv_24m|max_bal_bc|all_util|total_rev_hi_lim|inq_fi|total_cu_tl|inq_last_12m|acc_open_past_24mths|avg_cur_bal|bc_open_to_buy|bc_util|chargeoff_within_12_mths|delinq_amnt|mo_sin_old_il_acct|mo_sin_old_rev_tl_op|mo_sin_rcnt_rev_tl_op|mo_sin_rcnt_tl|mort_acc|mths_since_recent_bc|mths_since_recent_bc_dlq|mths_since_recent_inq|mths_since_recent_revol_delinq|num_accts_ever_120_pd|num_actv_bc_tl|num_actv_rev_tl|num_bc_sats|num_bc_tl|num_il_tl|num_op_rev_tl|num_rev_accts|num_rev_tl_bal_gt_0|num_sats|num_tl_120dpd_2m|num_tl_30dpd|num_tl_90g_dpd_24m|num_tl_op_past_12m|pct_tl_nvr_dlq|percent_bc_gt_75|pub_rec_bankruptcies|tax_liens|tot_hi_cred_lim|total_bal_ex_mort|total_bc_limit|total_il_high_credit_limit|revol_bal_joint|sec_app_fico_range_low|sec_app_fico_range_high|sec_app_earliest_cr_line|sec_app_inq_last_6mths|sec_app_mort_acc|sec_app_open_acc|sec_app_revol_util|sec_app_open_act_il|sec_app_num_rev_accts|sec_app_chargeoff_within_12_mths|sec_app_collections_12_mths_ex_med|sec_app_mths_since_last_major_derog|hardship_flag|hardship_type|hardship_reason|hardship_status|deferral_term|hardship_amount|hardship_start_date|hardship_end_date|payment_plan_start_date|hardship_length|hardship_dpd|hardship_loan_status|orig_projected_additional_accrued_interest|hardship_payoff_balance_amount|hardship_last_payment_amount|disbursement_method|debt_settlement_flag|debt_settlement_flag_date|settlement_status|settlement_date|settlement_amount|settlement_percentage|settlement_term|\n",
            "+--------+---------+---------+-----------+---------------+----------+--------+-----------+-----+---------+--------------------+----------+--------------+----------+-------------------+--------+-----------+----------+--------------------+----+------------------+--------------------+--------+----------+-----+-----------+----------------+--------------+---------------+--------------+----------------------+----------------------+--------+-------+---------+----------+---------+-------------------+---------+-------------+------------------+---------------+---------------+-------------+------------------+----------+-----------------------+------------+---------------+------------+------------------+--------------------+-------------------+--------------------------+---------------------------+-----------+----------------+----------------+---------+-------------------------+--------------+------------+-----------+-----------+-----------+-----------+-----------+------------------+------------+-------+-----------+-----------+----------+--------+----------------+------+-----------+------------+--------------------+-----------+--------------+-------+------------------------+-----------+------------------+--------------------+---------------------+--------------+--------+--------------------+------------------------+---------------------+------------------------------+---------------------+--------------+---------------+-----------+---------+---------+-------------+-------------+-------------------+--------+----------------+------------+------------------+------------------+--------------+----------------+--------------------+---------+---------------+-----------------+--------------+--------------------------+---------------+----------------------+-----------------------+------------------------+----------------------+----------------+----------------+------------------+-------------------+---------------------+--------------------------------+----------------------------------+-----------------------------------+-------------+-------------+---------------+---------------+-------------+---------------+-------------------+-----------------+-----------------------+---------------+------------+--------------------+------------------------------------------+------------------------------+----------------------------+-------------------+--------------------+-------------------------+-----------------+---------------+-----------------+---------------------+---------------+\n",
            "|68407277|     NULL|   3600.0|     3600.0|         3600.0| 36 months|   13.99|     123.03|    C|       C4|             leadman| 10+ years|      MORTGAGE|   55000.0|       Not Verified|Dec-2015| Fully Paid|         n|https://lendingcl...|NULL|debt_consolidation|  Debt consolidation|   190xx|        PA| 5.91|        0.0|        Aug-2003|         675.0|          679.0|           1.0|                  30.0|                  NULL|     7.0|    0.0|   2765.0|      29.7|     13.0|                  w|      0.0|          0.0| 4421.723916800001|        4421.72|         3600.0|       821.72|               0.0|       0.0|                    0.0|    Jan-2019|         122.67|        NULL|          Mar-2019|               564.0|              560.0|                       0.0|                       30.0|        1.0|      Individual|            NULL|     NULL|                     NULL|           0.0|       722.0|   144904.0|        2.0|        2.0|        0.0|        1.0|              21.0|      4981.0|   36.0|        3.0|        3.0|     722.0|    34.0|          9300.0|   3.0|        1.0|         4.0|                 4.0|    20701.0|        1506.0|   37.2|                     0.0|        0.0|             148.0|               128.0|                  3.0|           3.0|     1.0|                 4.0|                    69.0|                  4.0|                          69.0|                  2.0|           2.0|            4.0|        2.0|      5.0|      3.0|          4.0|          9.0|                4.0|     7.0|             0.0|         0.0|               0.0|               3.0|          76.9|             0.0|                 0.0|      0.0|       178050.0|           7746.0|        2400.0|                   13734.0|           NULL|                  NULL|                   NULL|                    NULL|                  NULL|            NULL|            NULL|              NULL|               NULL|                 NULL|                            NULL|                              NULL|                               NULL|            N|         NULL|           NULL|           NULL|         NULL|           NULL|               NULL|             NULL|                   NULL|           NULL|        NULL|                NULL|                                      NULL|                          NULL|                        NULL|               Cash|                   N|                     NULL|             NULL|           NULL|             NULL|                 NULL|           NULL|\n",
            "|68355089|     NULL|  24700.0|    24700.0|        24700.0| 36 months|   11.99|     820.28|    C|       C1|            Engineer| 10+ years|      MORTGAGE|   65000.0|       Not Verified|Dec-2015| Fully Paid|         n|https://lendingcl...|NULL|    small_business|            Business|   577xx|        SD|16.06|        1.0|        Dec-1999|         715.0|          719.0|           4.0|                   6.0|                  NULL|    22.0|    0.0|  21470.0|      19.2|     38.0|                  w|      0.0|          0.0|          25679.66|       25679.66|        24700.0|       979.66|               0.0|       0.0|                    0.0|    Jun-2016|         926.35|        NULL|          Mar-2019|               699.0|              695.0|                       0.0|                       NULL|        1.0|      Individual|            NULL|     NULL|                     NULL|           0.0|         0.0|   204396.0|        1.0|        1.0|        0.0|        1.0|              19.0|     18005.0|   73.0|        2.0|        3.0|    6472.0|    29.0|        111800.0|   0.0|        0.0|         6.0|                 4.0|     9733.0|       57830.0|   27.1|                     0.0|        0.0|             113.0|               192.0|                  2.0|           2.0|     4.0|                 2.0|                    NULL|                  0.0|                           6.0|                  0.0|           5.0|            5.0|       13.0|     17.0|      6.0|         20.0|         27.0|                5.0|    22.0|             0.0|         0.0|               0.0|               2.0|          97.4|             7.7|                 0.0|      0.0|       314017.0|          39475.0|       79300.0|                   24667.0|           NULL|                  NULL|                   NULL|                    NULL|                  NULL|            NULL|            NULL|              NULL|               NULL|                 NULL|                            NULL|                              NULL|                               NULL|            N|         NULL|           NULL|           NULL|         NULL|           NULL|               NULL|             NULL|                   NULL|           NULL|        NULL|                NULL|                                      NULL|                          NULL|                        NULL|               Cash|                   N|                     NULL|             NULL|           NULL|             NULL|                 NULL|           NULL|\n",
            "|68341763|     NULL|  20000.0|    20000.0|        20000.0| 60 months|   10.78|     432.66|    B|       B4|        truck driver| 10+ years|      MORTGAGE|   63000.0|       Not Verified|Dec-2015| Fully Paid|         n|https://lendingcl...|NULL|  home_improvement|                NULL|   605xx|        IL|10.78|        0.0|        Aug-2000|         695.0|          699.0|           0.0|                  NULL|                  NULL|     6.0|    0.0|   7869.0|      56.2|     18.0|                  w|      0.0|          0.0|22705.924293878397|       22705.92|        20000.0|      2705.92|               0.0|       0.0|                    0.0|    Jun-2017|        15813.3|        NULL|          Mar-2019|               704.0|              700.0|                       0.0|                       NULL|        1.0|       Joint App|         71000.0|    13.85|             Not Verified|           0.0|         0.0|   189699.0|        0.0|        1.0|        0.0|        4.0|              19.0|     10827.0|   73.0|        0.0|        2.0|    2081.0|    65.0|         14000.0|   2.0|        5.0|         1.0|                 6.0|    31617.0|        2737.0|   55.9|                     0.0|        0.0|             125.0|               184.0|                 14.0|          14.0|     5.0|               101.0|                    NULL|                 10.0|                          NULL|                  0.0|           2.0|            3.0|        2.0|      4.0|      6.0|          4.0|          7.0|                3.0|     6.0|             0.0|         0.0|               0.0|               0.0|         100.0|            50.0|                 0.0|      0.0|       218418.0|          18696.0|        6200.0|                   14877.0|           NULL|                  NULL|                   NULL|                    NULL|                  NULL|            NULL|            NULL|              NULL|               NULL|                 NULL|                            NULL|                              NULL|                               NULL|            N|         NULL|           NULL|           NULL|         NULL|           NULL|               NULL|             NULL|                   NULL|           NULL|        NULL|                NULL|                                      NULL|                          NULL|                        NULL|               Cash|                   N|                     NULL|             NULL|           NULL|             NULL|                 NULL|           NULL|\n",
            "|66310712|     NULL|  35000.0|    35000.0|        35000.0| 60 months|   14.85|      829.9|    C|       C5|Information Syste...| 10+ years|      MORTGAGE|  110000.0|    Source Verified|Dec-2015|    Current|         n|https://lendingcl...|NULL|debt_consolidation|  Debt consolidation|   076xx|        NJ|17.06|        0.0|        Sep-2008|         785.0|          789.0|           0.0|                  NULL|                  NULL|    13.0|    0.0|   7802.0|      11.6|     17.0|                  w| 15897.65|     15897.65|          31464.01|       31464.01|       19102.35|     12361.66|               0.0|       0.0|                    0.0|    Feb-2019|          829.9|    Apr-2019|          Mar-2019|               679.0|              675.0|                       0.0|                       NULL|        1.0|      Individual|            NULL|     NULL|                     NULL|           0.0|         0.0|   301500.0|        1.0|        1.0|        0.0|        1.0|              23.0|     12609.0|   70.0|        1.0|        1.0|    6987.0|    45.0|         67300.0|   0.0|        1.0|         0.0|                 2.0|    23192.0|       54962.0|   12.1|                     0.0|        0.0|              36.0|                87.0|                  2.0|           2.0|     1.0|                 2.0|                    NULL|                 NULL|                          NULL|                  0.0|           4.0|            5.0|        8.0|     10.0|      2.0|         10.0|         13.0|                5.0|    13.0|             0.0|         0.0|               0.0|               1.0|         100.0|             0.0|                 0.0|      0.0|       381215.0|          52226.0|       62500.0|                   18000.0|           NULL|                  NULL|                   NULL|                    NULL|                  NULL|            NULL|            NULL|              NULL|               NULL|                 NULL|                            NULL|                              NULL|                               NULL|            N|         NULL|           NULL|           NULL|         NULL|           NULL|               NULL|             NULL|                   NULL|           NULL|        NULL|                NULL|                                      NULL|                          NULL|                        NULL|               Cash|                   N|                     NULL|             NULL|           NULL|             NULL|                 NULL|           NULL|\n",
            "|68476807|     NULL|  10400.0|    10400.0|        10400.0| 60 months|   22.45|     289.91|    F|       F1| Contract Specialist|   3 years|      MORTGAGE|  104433.0|    Source Verified|Dec-2015| Fully Paid|         n|https://lendingcl...|NULL|    major_purchase|      Major purchase|   174xx|        PA|25.37|        1.0|        Jun-1998|         695.0|          699.0|           3.0|                  12.0|                  NULL|    12.0|    0.0|  21929.0|      64.5|     35.0|                  w|      0.0|          0.0|           11740.5|        11740.5|        10400.0|       1340.5|               0.0|       0.0|                    0.0|    Jul-2016|       10128.96|        NULL|          Mar-2018|               704.0|              700.0|                       0.0|                       NULL|        1.0|      Individual|            NULL|     NULL|                     NULL|           0.0|         0.0|   331730.0|        1.0|        3.0|        0.0|        3.0|              14.0|     73839.0|   84.0|        4.0|        7.0|    9702.0|    78.0|         34000.0|   2.0|        1.0|         3.0|                10.0|    27644.0|        4567.0|   77.5|                     0.0|        0.0|             128.0|               210.0|                  4.0|           4.0|     6.0|                 4.0|                    12.0|                  1.0|                          12.0|                  0.0|           4.0|            6.0|        5.0|      9.0|     10.0|          7.0|         19.0|                6.0|    12.0|             0.0|         0.0|               0.0|               4.0|          96.6|            60.0|                 0.0|      0.0|       439570.0|          95768.0|       20300.0|                   88097.0|           NULL|                  NULL|                   NULL|                    NULL|                  NULL|            NULL|            NULL|              NULL|               NULL|                 NULL|                            NULL|                              NULL|                               NULL|            N|         NULL|           NULL|           NULL|         NULL|           NULL|               NULL|             NULL|                   NULL|           NULL|        NULL|                NULL|                                      NULL|                          NULL|                        NULL|               Cash|                   N|                     NULL|             NULL|           NULL|             NULL|                 NULL|           NULL|\n",
            "|68426831|     NULL|  11950.0|    11950.0|        11950.0| 36 months|   13.44|     405.18|    C|       C3|Veterinary Tecnician|   4 years|          RENT|   34000.0|    Source Verified|Dec-2015| Fully Paid|         n|https://lendingcl...|NULL|debt_consolidation|  Debt consolidation|   300xx|        GA| 10.2|        0.0|        Oct-1987|         690.0|          694.0|           0.0|                  NULL|                  NULL|     5.0|    0.0|   8822.0|      68.4|      6.0|                  w|      0.0|          0.0|  13708.9485297572|       13708.95|        11950.0|      1758.95|               0.0|       0.0|                    0.0|    May-2017|        7653.56|        NULL|          May-2017|               759.0|              755.0|                       0.0|                       NULL|        1.0|      Individual|            NULL|     NULL|                     NULL|           0.0|         0.0|    12798.0|        0.0|        1.0|        0.0|        0.0|             338.0|      3976.0|   99.0|        0.0|        0.0|    4522.0|    76.0|         12900.0|   0.0|        0.0|         0.0|                 0.0|     2560.0|         844.0|   91.0|                     0.0|        0.0|             338.0|                54.0|                 32.0|          32.0|     0.0|                36.0|                    NULL|                 NULL|                          NULL|                  0.0|           2.0|            3.0|        2.0|      2.0|      2.0|          4.0|          4.0|                3.0|     5.0|             0.0|         0.0|               0.0|               0.0|         100.0|           100.0|                 0.0|      0.0|        16900.0|          12798.0|        9400.0|                    4000.0|           NULL|                  NULL|                   NULL|                    NULL|                  NULL|            NULL|            NULL|              NULL|               NULL|                 NULL|                            NULL|                              NULL|                               NULL|            N|         NULL|           NULL|           NULL|         NULL|           NULL|               NULL|             NULL|                   NULL|           NULL|        NULL|                NULL|                                      NULL|                          NULL|                        NULL|               Cash|                   N|                     NULL|             NULL|           NULL|             NULL|                 NULL|           NULL|\n",
            "|68476668|     NULL|  20000.0|    20000.0|        20000.0| 36 months|    9.17|     637.58|    B|       B2|Vice President of...| 10+ years|      MORTGAGE|  180000.0|       Not Verified|Dec-2015| Fully Paid|         n|https://lendingcl...|NULL|debt_consolidation|  Debt consolidation|   550xx|        MN|14.67|        0.0|        Jun-1990|         680.0|          684.0|           0.0|                  49.0|                  NULL|    12.0|    0.0|  87329.0|      84.5|     27.0|                  f|      0.0|          0.0|   21393.800000011|        21393.8|        20000.0|       1393.8|               0.0|       0.0|                    0.0|    Nov-2016|       15681.05|        NULL|          Mar-2019|               654.0|              650.0|                       0.0|                       NULL|        1.0|      Individual|            NULL|     NULL|                     NULL|           0.0|         0.0|   360358.0|        0.0|        2.0|        0.0|        2.0|              18.0|     29433.0|   63.0|        2.0|        3.0|   13048.0|    74.0|         94200.0|   1.0|        0.0|         1.0|                 6.0|    30030.0|           0.0|  102.9|                     0.0|        0.0|             142.0|               306.0|                 10.0|          10.0|     4.0|                12.0|                    NULL|                 10.0|                          NULL|                  0.0|           4.0|            6.0|        4.0|      5.0|      7.0|          9.0|         16.0|                6.0|    12.0|             0.0|         0.0|               0.0|               2.0|          96.3|           100.0|                 0.0|      0.0|       388852.0|         116762.0|       31500.0|                   46452.0|           NULL|                  NULL|                   NULL|                    NULL|                  NULL|            NULL|            NULL|              NULL|               NULL|                 NULL|                            NULL|                              NULL|                               NULL|            N|         NULL|           NULL|           NULL|         NULL|           NULL|               NULL|             NULL|                   NULL|           NULL|        NULL|                NULL|                                      NULL|                          NULL|                        NULL|               Cash|                   N|                     NULL|             NULL|           NULL|             NULL|                 NULL|           NULL|\n",
            "|67275481|     NULL|  20000.0|    20000.0|        20000.0| 36 months|    8.49|     631.26|    B|       B1|         road driver| 10+ years|      MORTGAGE|   85000.0|       Not Verified|Dec-2015| Fully Paid|         n|https://lendingcl...|NULL|    major_purchase|      Major purchase|   293xx|        SC|17.61|        1.0|        Feb-1999|         705.0|          709.0|           0.0|                   3.0|                  NULL|     8.0|    0.0|    826.0|       5.7|     15.0|                  w|      0.0|          0.0|   21538.508976797|       21538.51|        20000.0|      1538.51|               0.0|       0.0|                    0.0|    Jan-2017|       14618.23|        NULL|          Mar-2019|               674.0|              670.0|                       0.0|                        3.0|        1.0|      Individual|            NULL|     NULL|                     NULL|           0.0|         0.0|   141601.0|        0.0|        3.0|        0.0|        4.0|              13.0|     27111.0|   75.0|        0.0|        0.0|     640.0|    55.0|         14500.0|   1.0|        0.0|         2.0|                 4.0|    17700.0|       13674.0|    5.7|                     0.0|        0.0|             149.0|                55.0|                 32.0|          13.0|     3.0|                32.0|                    NULL|                  8.0|                          NULL|                  1.0|           2.0|            2.0|        3.0|      3.0|      9.0|          3.0|          3.0|                2.0|     8.0|             0.0|         0.0|               1.0|               0.0|          93.3|             0.0|                 0.0|      0.0|       193390.0|          27937.0|       14500.0|                   36144.0|           NULL|                  NULL|                   NULL|                    NULL|                  NULL|            NULL|            NULL|              NULL|               NULL|                 NULL|                            NULL|                              NULL|                               NULL|            N|         NULL|           NULL|           NULL|         NULL|           NULL|               NULL|             NULL|                   NULL|           NULL|        NULL|                NULL|                                      NULL|                          NULL|                        NULL|               Cash|                   N|                     NULL|             NULL|           NULL|             NULL|                 NULL|           NULL|\n",
            "|68466926|     NULL|  10000.0|    10000.0|        10000.0| 36 months|    6.49|     306.45|    A|       A2|     SERVICE MANAGER|   6 years|          RENT|   85000.0|       Not Verified|Dec-2015| Fully Paid|         n|https://lendingcl...|NULL|       credit_card|Credit card refin...|   160xx|        PA|13.07|        0.0|        Apr-2002|         685.0|          689.0|           1.0|                  NULL|                 106.0|    14.0|    1.0|  10464.0|      34.5|     23.0|                  w|      0.0|          0.0|  10998.9715749644|       10998.97|        10000.0|       998.97|               0.0|       0.0|                    0.0|    Aug-2018|        1814.48|        NULL|          Mar-2019|               719.0|              715.0|                       0.0|                       NULL|        1.0|      Individual|            NULL|     NULL|                     NULL|           0.0|      8341.0|    27957.0|        2.0|        1.0|        0.0|        0.0|              35.0|     17493.0|   57.0|        2.0|        7.0|    2524.0|    46.0|         30300.0|   2.0|        0.0|         1.0|                 7.0|     1997.0|        8182.0|   50.1|                     0.0|        0.0|             164.0|               129.0|                  1.0|           1.0|     1.0|                 4.0|                    NULL|                  1.0|                          NULL|                  0.0|           6.0|            9.0|        7.0|     10.0|      3.0|         13.0|         19.0|                9.0|    14.0|             0.0|         0.0|               0.0|               2.0|          95.7|            28.6|                 1.0|      0.0|        61099.0|          27957.0|       16400.0|                   30799.0|           NULL|                  NULL|                   NULL|                    NULL|                  NULL|            NULL|            NULL|              NULL|               NULL|                 NULL|                            NULL|                              NULL|                               NULL|            N|         NULL|           NULL|           NULL|         NULL|           NULL|               NULL|             NULL|                   NULL|           NULL|        NULL|                NULL|                                      NULL|                          NULL|                        NULL|               Cash|                   N|                     NULL|             NULL|           NULL|             NULL|                 NULL|           NULL|\n",
            "|68616873|     NULL|   8000.0|     8000.0|         8000.0| 36 months|   11.48|     263.74|    B|       B5|      Vendor liaison| 10+ years|      MORTGAGE|   42000.0|       Not Verified|Dec-2015| Fully Paid|         n|https://lendingcl...|NULL|       credit_card|Credit card refin...|   029xx|        RI| 34.8|        0.0|        Nov-1994|         700.0|          704.0|           0.0|                  75.0|                  NULL|     8.0|    0.0|   7034.0|      39.1|     18.0|                  w|      0.0|          0.0|   8939.5805031401|        8939.58|         8000.0|       939.58|               0.0|       0.0|                    0.0|    Apr-2017|        4996.24|        NULL|          Nov-2018|               679.0|              675.0|                       0.0|                       75.0|        1.0|      Individual|            NULL|     NULL|                     NULL|           0.0|         0.0|   199696.0|        0.0|        2.0|        2.0|        3.0|              10.0|    106748.0|   72.0|        0.0|        2.0|    4725.0|    49.0|         18000.0|   0.0|        0.0|         1.0|                 5.0|    28528.0|        9966.0|   41.4|                     0.0|        0.0|             155.0|               253.0|                 15.0|          10.0|     1.0|                50.0|                    NULL|                 10.0|                          NULL|                  1.0|           3.0|            3.0|        3.0|      6.0|      5.0|          5.0|         11.0|                3.0|     8.0|             0.0|         0.0|               0.0|               2.0|          94.4|            33.3|                 0.0|      0.0|       256513.0|         113782.0|       17000.0|                  135513.0|           NULL|                  NULL|                   NULL|                    NULL|                  NULL|            NULL|            NULL|              NULL|               NULL|                 NULL|                            NULL|                              NULL|                               NULL|            N|         NULL|           NULL|           NULL|         NULL|           NULL|               NULL|             NULL|                   NULL|           NULL|        NULL|                NULL|                                      NULL|                          NULL|                        NULL|               Cash|                   N|                     NULL|             NULL|           NULL|             NULL|                 NULL|           NULL|\n",
            "|68356421|     NULL|  22400.0|    22400.0|        22400.0| 60 months|   12.88|      508.3|    C|       C2|  Executive Director|   6 years|      MORTGAGE|   95000.0|       Not Verified|Dec-2015|    Current|         n|https://lendingcl...|NULL|debt_consolidation|  Debt consolidation|   290xx|        SC|22.98|        0.0|        Apr-1995|         710.0|          714.0|           0.0|                  54.0|                  NULL|    16.0|    0.0|  13028.0|      32.7|     35.0|                  w|  9912.88|      9912.88|          19275.33|       19275.33|       12487.12|      6788.21|               0.0|       0.0|                    0.0|    Feb-2019|          508.3|    Apr-2019|          Mar-2019|               589.0|              585.0|                       0.0|                       54.0|        1.0|      Individual|            NULL|     NULL|                     NULL|           0.0|         0.0|   376218.0|        1.0|        5.0|        0.0|        3.0|              17.0|    171328.0|   67.0|        3.0|        6.0|    8121.0|    54.0|         39800.0|   1.0|        5.0|         0.0|                 9.0|    23514.0|       12617.0|   39.9|                     0.0|        0.0|             150.0|               248.0|                  1.0|           1.0|     5.0|                 1.0|                    NULL|                 14.0|                          NULL|                  2.0|           3.0|            8.0|        4.0|      5.0|     15.0|         10.0|         15.0|                8.0|    16.0|             0.0|         0.0|               0.0|               3.0|          97.0|            25.0|                 0.0|      0.0|       436841.0|         184356.0|       21000.0|                  191682.0|           NULL|                  NULL|                   NULL|                    NULL|                  NULL|            NULL|            NULL|              NULL|               NULL|                 NULL|                            NULL|                              NULL|                               NULL|            N|         NULL|           NULL|           NULL|         NULL|           NULL|               NULL|             NULL|                   NULL|           NULL|        NULL|                NULL|                                      NULL|                          NULL|                        NULL|               Cash|                   N|                     NULL|             NULL|           NULL|             NULL|                 NULL|           NULL|\n",
            "|68426545|     NULL|  16000.0|    16000.0|        16000.0| 60 months|   12.88|     363.07|    C|       C2|Senior Structural...|    1 year|      MORTGAGE|   70000.0|       Not Verified|Dec-2015|    Current|         n|https://lendingcl...|NULL|debt_consolidation|  Debt consolidation|   786xx|        TX| 26.4|        0.0|        Feb-1988|         720.0|          724.0|           0.0|                  NULL|                  NULL|    13.0|    0.0|  28705.0|      56.3|     29.0|                  w|   7080.7|       7080.7|          13768.04|       13768.04|         8919.3|      4848.74|               0.0|       0.0|                    0.0|    Feb-2019|         363.07|    Apr-2019|          Mar-2019|               754.0|              750.0|                       0.0|                       NULL|        1.0|      Individual|            NULL|     NULL|                     NULL|           0.0|         0.0|   265836.0|        0.0|        2.0|        0.0|        2.0|              13.0|     33702.0|   74.0|        1.0|        1.0|    8739.0|    64.0|         51000.0|   0.0|        0.0|         1.0|                 3.0|    24167.0|       17922.0|   61.0|                     0.0|        0.0|             147.0|               334.0|                  9.0|           9.0|     2.0|                 9.0|                    NULL|                 11.0|                          NULL|                  0.0|           4.0|            6.0|        5.0|     12.0|      6.0|         10.0|         21.0|                6.0|    13.0|             0.0|         0.0|               0.0|               1.0|         100.0|            60.0|                 0.0|      0.0|       309638.0|          62407.0|       45900.0|                   45838.0|           NULL|                  NULL|                   NULL|                    NULL|                  NULL|            NULL|            NULL|              NULL|               NULL|                 NULL|                            NULL|                              NULL|                               NULL|            N|         NULL|           NULL|           NULL|         NULL|           NULL|               NULL|             NULL|                   NULL|           NULL|        NULL|                NULL|                                      NULL|                          NULL|                        NULL|               Cash|                   N|                     NULL|             NULL|           NULL|             NULL|                 NULL|           NULL|\n",
            "|68338832|     NULL|   1400.0|     1400.0|         1400.0| 36 months|   12.88|       47.1|    C|       C2|   Logistics Manager|   3 years|      MORTGAGE|   64000.0|       Not Verified|Dec-2015| Fully Paid|         n|https://lendingcl...|NULL|             other|                NULL|   275xx|        NC|34.95|        0.0|        Jun-1996|         700.0|          704.0|           0.0|                  NULL|                  NULL|    17.0|    0.0|  37828.0|      67.2|     24.0|                  w|      0.0|          0.0|    1575.160697674|        1575.16|         1400.0|       175.16|               0.0|       0.0|                    0.0|    Mar-2017|         965.36|        NULL|          Sep-2018|               704.0|              700.0|                       0.0|                       NULL|        1.0|      Individual|            NULL|     NULL|                     NULL|           0.0|         0.0|   325695.0|        1.0|        3.0|        1.0|        2.0|               2.0|     37430.0|   67.0|        0.0|        2.0|    7386.0|    67.0|         56300.0|   0.0|        2.0|         0.0|                 4.0|    19159.0|        7940.0|   77.0|                     0.0|        0.0|              46.0|               234.0|                 18.0|           2.0|     4.0|                28.0|                    NULL|                 18.0|                          NULL|                  0.0|           7.0|           11.0|        8.0|     11.0|      3.0|         12.0|         17.0|               11.0|    17.0|             0.0|         0.0|               0.0|               1.0|         100.0|            75.0|                 0.0|      0.0|       372109.0|          75258.0|       34500.0|                   55501.0|           NULL|                  NULL|                   NULL|                    NULL|                  NULL|            NULL|            NULL|              NULL|               NULL|                 NULL|                            NULL|                              NULL|                               NULL|            N|         NULL|           NULL|           NULL|         NULL|           NULL|               NULL|             NULL|                   NULL|           NULL|        NULL|                NULL|                                      NULL|                          NULL|                        NULL|               Cash|                   N|                     NULL|             NULL|           NULL|             NULL|                 NULL|           NULL|\n",
            "|66624733|     NULL|  18000.0|    18000.0|        18000.0| 60 months|   19.48|      471.7|    E|       E2|    Software Manager|   7 years|          RENT|  150000.0|       Not Verified|Dec-2015|Charged Off|         n|https://lendingcl...|NULL|debt_consolidation|  Debt consolidation|   916xx|        CA| 9.39|        0.0|        Jun-2005|         665.0|          669.0|           1.0|                  NULL|                  75.0|    18.0|    1.0|  14052.0|      40.7|     27.0|                  w|      0.0|          0.0|           9452.74|        9452.74|        3481.86|      4351.98|               0.0|    1618.9|                291.402|    May-2017|          471.7|        NULL|          Nov-2017|               584.0|              580.0|                       0.0|                       NULL|        1.0|      Individual|            NULL|     NULL|                     NULL|           0.0|        60.0|    36247.0|        2.0|        2.0|        1.0|        3.0|               2.0|     22195.0|   71.0|        2.0|        4.0|    1271.0|    55.0|         34500.0|   2.0|        1.0|         2.0|                 7.0|     2014.0|        5128.0|   51.3|                     0.0|        0.0|             115.0|               112.0|                  1.0|           1.0|     2.0|                 9.0|                    NULL|                  2.0|                          NULL|                  0.0|           6.0|           13.0|        7.0|      8.0|      6.0|         16.0|         19.0|               13.0|    18.0|             0.0|         0.0|               0.0|               3.0|         100.0|            14.3|                 1.0|      0.0|        65819.0|          36247.0|       10300.0|                   31319.0|           NULL|                  NULL|                   NULL|                    NULL|                  NULL|            NULL|            NULL|              NULL|               NULL|                 NULL|                            NULL|                              NULL|                               NULL|            N|         NULL|           NULL|           NULL|         NULL|           NULL|               NULL|             NULL|                   NULL|           NULL|        NULL|                NULL|                                      NULL|                          NULL|                        NULL|               Cash|                   N|                     NULL|             NULL|           NULL|             NULL|                 NULL|           NULL|\n",
            "|68466961|     NULL|  28000.0|    28000.0|        28000.0| 36 months|    6.49|     858.05|    A|       A2|      Senior Manager| 10+ years|      MORTGAGE|   92000.0|       Not Verified|Dec-2015| Fully Paid|         n|https://lendingcl...|NULL|debt_consolidation|  Debt consolidation|   275xx|        NC| 21.6|        0.0|        May-1984|         720.0|          724.0|           0.0|                  42.0|                  NULL|    16.0|    0.0|  51507.0|      64.5|     24.0|                  w|      0.0|          0.0|29939.017729337003|       29939.02|        28000.0|      1939.02|               0.0|       0.0|                    0.0|    May-2017|       17093.51|        NULL|          Mar-2019|               764.0|              760.0|                       0.0|                       NULL|        1.0|      Individual|            NULL|     NULL|                     NULL|           0.0|         0.0|   221110.0|        0.0|        2.0|        0.0|        0.0|              27.0|     23413.0|   55.0|        0.0|        1.0|    8752.0|    61.0|         79900.0|   0.0|        1.0|         0.0|                 1.0|    13819.0|       16623.0|   59.9|                     0.0|        0.0|              82.0|               379.0|                 19.0|          19.0|     2.0|                19.0|                    48.0|                 NULL|                          42.0|                  0.0|           7.0|            9.0|        9.0|     11.0|      4.0|         13.0|         18.0|                9.0|    16.0|             0.0|         0.0|               0.0|               0.0|          91.7|            22.2|                 0.0|      0.0|       304003.0|          74920.0|       41500.0|                   42503.0|           NULL|                  NULL|                   NULL|                    NULL|                  NULL|            NULL|            NULL|              NULL|               NULL|                 NULL|                            NULL|                              NULL|                               NULL|            N|         NULL|           NULL|           NULL|         NULL|           NULL|               NULL|             NULL|                   NULL|           NULL|        NULL|                NULL|                                      NULL|                          NULL|                        NULL|               Cash|                   N|                     NULL|             NULL|           NULL|             NULL|                 NULL|           NULL|\n",
            "|68354783|     NULL|   9600.0|     9600.0|         9600.0| 36 months|    7.49|     298.58|    A|       A4|                tech|   8 years|      MORTGAGE|   60000.0|       Not Verified|Dec-2015| Fully Paid|         n|https://lendingcl...|NULL|       credit_card|Credit card refin...|   299xx|        SC|22.44|        0.0|        Jun-1996|         695.0|          699.0|           0.0|                  NULL|                  NULL|     7.0|    0.0|   7722.0|      59.4|      9.0|                  w|      0.0|          0.0|10636.098427692801|        10636.1|         9600.0|       1036.1|               0.0|       0.0|                    0.0|    Feb-2018|        3480.17|        NULL|          Aug-2018|               779.0|              775.0|                       0.0|                       NULL|        1.0|      Individual|            NULL|     NULL|                     NULL|           0.0|         0.0|    55387.0|        0.0|        3.0|        0.0|        0.0|              47.0|     47665.0|   43.0|        2.0|        2.0|    4744.0|    50.0|         13000.0|   0.0|        0.0|         2.0|                 2.0|     7912.0|        4778.0|   61.8|                     0.0|        0.0|             234.0|                91.0|                  9.0|           9.0|     0.0|                11.0|                    NULL|                  9.0|                          NULL|                  0.0|           3.0|            3.0|        3.0|      3.0|      5.0|          4.0|          4.0|                3.0|     7.0|             0.0|         0.0|               0.0|               2.0|         100.0|            66.7|                 0.0|      0.0|        88635.0|          55387.0|       12500.0|                   75635.0|           NULL|                  NULL|                   NULL|                    NULL|                  NULL|            NULL|            NULL|              NULL|               NULL|                 NULL|                            NULL|                              NULL|                               NULL|            N|         NULL|           NULL|           NULL|         NULL|           NULL|               NULL|             NULL|                   NULL|           NULL|        NULL|                NULL|                                      NULL|                          NULL|                        NULL|               Cash|                   N|                     NULL|             NULL|           NULL|             NULL|                 NULL|           NULL|\n",
            "|68466916|     NULL|  25000.0|    25000.0|        25000.0| 36 months|    7.49|     777.55|    A|       A4|       Sales Manager| 10+ years|      MORTGAGE|  109000.0|       Not Verified|Dec-2015| Fully Paid|         n|https://lendingcl...|NULL|debt_consolidation|  Debt consolidation|   226xx|        VA|26.02|        0.0|        Dec-2001|         745.0|          749.0|           1.0|                  NULL|                  NULL|     9.0|    0.0|  20862.0|      54.3|     19.0|                  w|      0.0|          0.0|          26224.23|       26224.23|        25000.0|      1224.23|               0.0|       0.0|                    0.0|    Sep-2016|       20807.39|        NULL|          Apr-2017|               724.0|              720.0|                       0.0|                       NULL|        1.0|      Individual|            NULL|     NULL|                     NULL|           0.0|         0.0|   305781.0|        0.0|        3.0|        0.0|        1.0|              13.0|     47194.0|   58.0|        0.0|        1.0|    8937.0|    57.0|         38400.0|   1.0|        0.0|         1.0|                 2.0|    33976.0|       17538.0|   54.3|                     0.0|        0.0|             142.0|               168.0|                 13.0|          13.0|     3.0|                13.0|                    NULL|                  0.0|                          NULL|                  0.0|           3.0|            3.0|        5.0|      6.0|      7.0|          5.0|          9.0|                3.0|     9.0|             0.0|         0.0|               0.0|               0.0|         100.0|            20.0|                 0.0|      0.0|       373572.0|          68056.0|       38400.0|                   82117.0|           NULL|                  NULL|                   NULL|                    NULL|                  NULL|            NULL|            NULL|              NULL|               NULL|                 NULL|                            NULL|                              NULL|                               NULL|            N|         NULL|           NULL|           NULL|         NULL|           NULL|               NULL|             NULL|                   NULL|           NULL|        NULL|                NULL|                                      NULL|                          NULL|                        NULL|               Cash|                   N|                     NULL|             NULL|           NULL|             NULL|                 NULL|           NULL|\n",
            "|68577849|     NULL|  18000.0|    18000.0|        18000.0| 60 months|   11.99|     400.31|    C|       C1|               GS-11| 10+ years|      MORTGAGE|  112000.0|       Not Verified|Dec-2015| Fully Paid|         n|https://lendingcl...|NULL|debt_consolidation|  Debt consolidation|   856xx|        AZ| 8.68|        0.0|        Nov-1993|         800.0|          804.0|           0.0|                  NULL|                  NULL|    17.0|    0.0|  10711.0|      15.5|     27.0|                  w|      0.0|          0.0|          18387.22|       18387.22|        18000.0|       387.22|               0.0|       0.0|                    0.0|    Mar-2016|        18004.9|        NULL|          Mar-2019|               794.0|              790.0|                       0.0|                       NULL|        1.0|      Individual|            NULL|     NULL|                     NULL|           0.0|         0.0|   205067.0|        3.0|        1.0|        2.0|        2.0|               3.0|     25416.0|   97.0|        2.0|        3.0|    7672.0|    38.0|         82400.0|   0.0|        1.0|         1.0|                 5.0|    17089.0|       60336.0|   16.7|                     0.0|        0.0|             109.0|               265.0|                  1.0|           1.0|     4.0|                 1.0|                    NULL|                 10.0|                          NULL|                  0.0|           5.0|            6.0|       12.0|     12.0|      6.0|         15.0|         17.0|                6.0|    16.0|             0.0|         0.0|               0.0|               4.0|         100.0|             0.0|                 0.0|      0.0|       309710.0|          36127.0|       69800.0|                   26210.0|           NULL|                  NULL|                   NULL|                    NULL|                  NULL|            NULL|            NULL|              NULL|               NULL|                 NULL|                            NULL|                              NULL|                               NULL|            N|         NULL|           NULL|           NULL|         NULL|           NULL|               NULL|             NULL|                   NULL|           NULL|        NULL|                NULL|                                      NULL|                          NULL|                        NULL|               Cash|                   N|                     NULL|             NULL|           NULL|             NULL|                 NULL|           NULL|\n",
            "|68506798|     NULL|  23000.0|    23000.0|        23000.0| 60 months|    8.49|     471.77|    B|       B1|             Teacher|   5 years|          RENT|   64000.0|       Not Verified|Dec-2015|    Current|         n|https://lendingcl...|NULL|       credit_card|Credit card refin...|   117xx|        NY|18.28|        0.0|        Sep-2001|         700.0|          704.0|           0.0|                  29.0|                  NULL|    21.0|    0.0|  24940.0|      52.7|     33.0|                  w|   9580.2|       9580.2|          17900.14|       17900.14|        13419.8|      4480.34|               0.0|       0.0|                    0.0|    Feb-2019|         471.77|    Apr-2019|          Mar-2019|               744.0|              740.0|                       0.0|                       NULL|        1.0|      Individual|            NULL|     NULL|                     NULL|           0.0|         0.0|    63886.0|        0.0|        7.0|        0.0|        0.0|              42.0|     38946.0|   84.0|        2.0|        3.0|    9516.0|    68.0|         47300.0|   0.0|        3.0|         1.0|                 3.0|     3549.0|       15603.0|   60.5|                     0.0|        0.0|             163.0|               171.0|                  8.0|           8.0|     0.0|                12.0|                    30.0|                  8.0|                          29.0|                  0.0|           6.0|            8.0|        7.0|      8.0|     14.0|         14.0|         19.0|                8.0|    21.0|             0.0|         0.0|               0.0|               2.0|          87.9|            14.3|                 0.0|      0.0|        93962.0|          63886.0|       39500.0|                   46662.0|           NULL|                  NULL|                   NULL|                    NULL|                  NULL|            NULL|            NULL|              NULL|               NULL|                 NULL|                            NULL|                              NULL|                               NULL|            N|         NULL|           NULL|           NULL|         NULL|           NULL|               NULL|             NULL|                   NULL|           NULL|        NULL|                NULL|                                      NULL|                          NULL|                        NULL|               Cash|                   N|                     NULL|             NULL|           NULL|             NULL|                 NULL|           NULL|\n",
            "|68495092|     NULL|   8650.0|     8650.0|         8650.0| 36 months|   19.89|     320.99|    E|       E3|Program Coordinator |   8 years|          RENT|   55000.0|           Verified|Dec-2015| Fully Paid|         n|https://lendingcl...|NULL|debt_consolidation|  Debt consolidation|   462xx|        IN|25.49|        0.0|        Mar-2005|         675.0|          679.0|           4.0|                  NULL|                  30.0|    18.0|    1.0|   9568.0|      46.0|     19.0|                  w|      0.0|          0.0|           9190.49|        9190.49|         8650.0|       540.49|               0.0|       0.0|                    0.0|    May-2016|        8251.42|        NULL|          Jun-2016|               639.0|              635.0|                       0.0|                       NULL|        1.0|      Individual|            NULL|     NULL|                     NULL|           0.0|         0.0|    18926.0|        6.0|        1.0|        0.0|        1.0|              19.0|      9358.0|   51.0|       12.0|       16.0|     653.0|    46.0|         20750.0|   2.0|        0.0|         5.0|                17.0|     1051.0|        1375.0|   45.0|                     0.0|        0.0|             129.0|                95.0|                  0.0|           0.0|     0.0|                 8.0|                    NULL|                  0.0|                          NULL|                  0.0|           2.0|           17.0|        2.0|      2.0|      2.0|         17.0|         17.0|               13.0|    18.0|            NULL|         0.0|               0.0|              12.0|         100.0|            50.0|                 1.0|      0.0|        38998.0|          18926.0|        2750.0|                   18248.0|           NULL|                  NULL|                   NULL|                    NULL|                  NULL|            NULL|            NULL|              NULL|               NULL|                 NULL|                            NULL|                              NULL|                               NULL|            N|         NULL|           NULL|           NULL|         NULL|           NULL|               NULL|             NULL|                   NULL|           NULL|        NULL|                NULL|                                      NULL|                          NULL|                        NULL|               Cash|                   N|                     NULL|             NULL|           NULL|             NULL|                 NULL|           NULL|\n",
            "+--------+---------+---------+-----------+---------------+----------+--------+-----------+-----+---------+--------------------+----------+--------------+----------+-------------------+--------+-----------+----------+--------------------+----+------------------+--------------------+--------+----------+-----+-----------+----------------+--------------+---------------+--------------+----------------------+----------------------+--------+-------+---------+----------+---------+-------------------+---------+-------------+------------------+---------------+---------------+-------------+------------------+----------+-----------------------+------------+---------------+------------+------------------+--------------------+-------------------+--------------------------+---------------------------+-----------+----------------+----------------+---------+-------------------------+--------------+------------+-----------+-----------+-----------+-----------+-----------+------------------+------------+-------+-----------+-----------+----------+--------+----------------+------+-----------+------------+--------------------+-----------+--------------+-------+------------------------+-----------+------------------+--------------------+---------------------+--------------+--------+--------------------+------------------------+---------------------+------------------------------+---------------------+--------------+---------------+-----------+---------+---------+-------------+-------------+-------------------+--------+----------------+------------+------------------+------------------+--------------+----------------+--------------------+---------+---------------+-----------------+--------------+--------------------------+---------------+----------------------+-----------------------+------------------------+----------------------+----------------+----------------+------------------+-------------------+---------------------+--------------------------------+----------------------------------+-----------------------------------+-------------+-------------+---------------+---------------+-------------+---------------+-------------------+-----------------+-----------------------+---------------+------------+--------------------+------------------------------------------+------------------------------+----------------------------+-------------------+--------------------+-------------------------+-----------------+---------------+-----------------+---------------------+---------------+\n",
            "only showing top 20 rows\n",
            "\n"
          ]
        }
      ]
    },
    {
      "cell_type": "code",
      "source": [
        "# Create Temp View Tables\n",
        "loan_accept_df.createOrReplaceTempView(\"accepted\")"
      ],
      "metadata": {
        "id": "LbYW_ThF8wce"
      },
      "execution_count": 5,
      "outputs": []
    },
    {
      "cell_type": "code",
      "source": [
        "# Cache the accepted dataset table\n",
        "spark.sql(\"cache table accepted\")"
      ],
      "metadata": {
        "colab": {
          "base_uri": "https://localhost:8080/"
        },
        "id": "w1Yh9V1_Pmvj",
        "outputId": "5420794b-5918-43b7-fabc-e442a2b8556e"
      },
      "execution_count": 6,
      "outputs": [
        {
          "output_type": "execute_result",
          "data": {
            "text/plain": [
              "DataFrame[]"
            ]
          },
          "metadata": {},
          "execution_count": 6
        }
      ]
    },
    {
      "cell_type": "code",
      "source": [
        "# Review the accepted table to determine it's use of columns\n",
        "# Tables that we're keeping -->>:loan_amnt, int_rate, emp_title, emp_length,\n",
        "# home_ownership, annual_inc, issue_d, loan_status, purpose, addr_state, dti,fico_range_low, fico_range_high\n",
        "\n",
        "accept_df = spark.sql( \"\"\" SELECT\n",
        "        loan_amnt,\n",
        "        int_rate,\n",
        "        emp_title,\n",
        "        emp_length,\n",
        "        home_ownership,\n",
        "        annual_inc,\n",
        "        YEAR(issue_d) AS YEAR,\n",
        "        loan_status,\n",
        "        purpose,\n",
        "        addr_state,\n",
        "        dti,fico_range_low,\n",
        "        fico_range_high\n",
        "        FROM accepted\n",
        "        ORDER BY YEAR\n",
        "    \"\"\")\n",
        "accept_df.show()\n"
      ],
      "metadata": {
        "id": "R_qqQeFH_emD",
        "colab": {
          "base_uri": "https://localhost:8080/"
        },
        "outputId": "f9f49fe9-748a-43e0-b1ef-1e29f54116fe"
      },
      "execution_count": 24,
      "outputs": [
        {
          "output_type": "stream",
          "name": "stdout",
          "text": [
            "+---------+--------+--------------------+----------+--------------+----------+----+------------------+------------------+----------+-----+--------------+---------------+\n",
            "|loan_amnt|int_rate|           emp_title|emp_length|home_ownership|annual_inc|YEAR|       loan_status|           purpose|addr_state|  dti|fico_range_low|fico_range_high|\n",
            "+---------+--------+--------------------+----------+--------------+----------+----+------------------+------------------+----------+-----+--------------+---------------+\n",
            "|   3000.0|    7.89|                NULL|      NULL|          RENT|   50000.0|NULL|        Fully Paid|       credit_card|        OR| 5.05|         680.0|          684.0|\n",
            "|  26975.0|   30.84|     Project Manager|   3 years|      MORTGAGE|   70000.0|NULL|        Fully Paid|debt_consolidation|        CO|25.06|         685.0|          689.0|\n",
            "|   4000.0|   10.49|               Admin|   3 years|          RENT|   31000.0|NULL|        Fully Paid|debt_consolidation|        OR|21.68|         715.0|          719.0|\n",
            "|  28000.0|    7.99|          Supervisor| 10+ years|      MORTGAGE|  370000.0|NULL|           Current|       credit_card|        LA|26.57|         705.0|          709.0|\n",
            "|  12000.0|   15.22|                NULL|      NULL|      MORTGAGE|   42000.0|NULL|        Fully Paid|       credit_card|        LA|  3.8|         670.0|          674.0|\n",
            "|  12000.0|   12.74|             foreman| 10+ years|           OWN|   98000.0|NULL|           Current|debt_consolidation|        MI|  9.5|         670.0|          674.0|\n",
            "|  23000.0|   13.49|             Teacher| 10+ years|      MORTGAGE|   55983.0|NULL|           Current|debt_consolidation|        TX|14.86|         720.0|          724.0|\n",
            "|   9600.0|   13.99|                NULL|      NULL|          RENT|   25000.0|NULL|Late (31-120 days)|debt_consolidation|        GA|23.38|         675.0|          679.0|\n",
            "|   7000.0|   12.73|Crothall Services...|   3 years|          RENT|   28685.0|NULL|        Fully Paid|debt_consolidation|        NY|22.72|         695.0|          699.0|\n",
            "|   2700.0|    8.24|     Physics Teacher|   6 years|          RENT|  39405.48|NULL|        Fully Paid|       credit_card|        TN| 33.9|         700.0|          704.0|\n",
            "|  15200.0|   25.69|     Behavioral Asst| 10+ years|      MORTGAGE|   40000.0|NULL|        Fully Paid|debt_consolidation|        VA|22.05|         665.0|          669.0|\n",
            "|  22400.0|    7.24|Associate Clinician |   5 years|      MORTGAGE|   90000.0|NULL|        Fully Paid|debt_consolidation|        CA|19.03|         780.0|          784.0|\n",
            "|   7125.0|   15.88|    century concrete| 10+ years|          RENT|   30000.0|NULL|        Fully Paid|             other|        VA|13.28|         695.0|          699.0|\n",
            "|  12000.0|   15.99|             captain|   9 years|          RENT|   80000.0|NULL|        Fully Paid|       credit_card|        VA|28.67|         690.0|          694.0|\n",
            "|   7200.0|   13.99|               owner|  < 1 year|          RENT|   20000.0|NULL|       Charged Off|    major_purchase|        NC|25.78|         700.0|          704.0|\n",
            "|  35000.0|   13.99| Assistant Principal| 10+ years|      MORTGAGE|  126000.0|NULL|           Current|debt_consolidation|        NY| 5.61|         685.0|          689.0|\n",
            "|  24000.0|   25.34|          Supervisor| 10+ years|      MORTGAGE|  125000.0|NULL|           Current|    small_business|        KY| 24.2|         665.0|          669.0|\n",
            "|   5600.0|   13.99|           Inspector|   9 years|      MORTGAGE|  106000.0|NULL|           Current|             other|        CA|11.79|         660.0|          664.0|\n",
            "|   2500.0|   15.59|         Supervisor |  < 1 year|          RENT|   45000.0|NULL|       Charged Off|debt_consolidation|        NY| 7.11|         665.0|          669.0|\n",
            "|   5000.0|    7.99|                  RN|      NULL|      MORTGAGE|   42000.0|NULL|        Fully Paid|           medical|        AZ|22.57|         795.0|          799.0|\n",
            "+---------+--------+--------------------+----------+--------------+----------+----+------------------+------------------+----------+-----+--------------+---------------+\n",
            "only showing top 20 rows\n",
            "\n"
          ]
        }
      ]
    },
    {
      "cell_type": "code",
      "source": [
        "# Partitioning into smaller datasets by year and output the data into multiple folders\n",
        "# Saved into my Google Drive\n",
        "accept_df.write.partitionBy(\"YEAR\").mode(\"overwrite\")\\\n",
        ".csv(\"/content/drive/MyDrive/Lending_Club_Data_Source/accepted_parquet_csv\")\n"
      ],
      "metadata": {
        "id": "vQMCeS3mcofZ"
      },
      "execution_count": 8,
      "outputs": []
    },
    {
      "cell_type": "code",
      "source": [
        "#Test by reading the partioned data\n",
        "readPartitionData = spark.read.option(\"header\", True)\\\n",
        ".csv(\"/content/drive/MyDrive/Lending_Club_Data_Source/accepted_parquet_csv/issue_d=Apr-2008\")\n",
        "readPartitionData.printSchema()\n",
        "readPartitionData.show()"
      ],
      "metadata": {
        "colab": {
          "base_uri": "https://localhost:8080/"
        },
        "id": "8y38MaTlUNPI",
        "outputId": "01b9d62a-4d17-46b0-d336-c7cf1acbb994"
      },
      "execution_count": 9,
      "outputs": [
        {
          "output_type": "stream",
          "name": "stdout",
          "text": [
            "root\n",
            " |-- 7500.0: string (nullable = true)\n",
            " |-- 8.0: string (nullable = true)\n",
            " |-- JEK: string (nullable = true)\n",
            " |-- 7 years: string (nullable = true)\n",
            " |-- MORTGAGE: string (nullable = true)\n",
            " |-- 45000.0: string (nullable = true)\n",
            " |-- Fully Paid: string (nullable = true)\n",
            " |-- other: string (nullable = true)\n",
            " |-- KS: string (nullable = true)\n",
            " |-- 7.17: string (nullable = true)\n",
            " |-- 795.0: string (nullable = true)\n",
            " |-- 799.0: string (nullable = true)\n",
            "\n",
            "+-------+-----+--------------------+---------+--------+--------+-----------+------------------+---+-----+-----+-----+\n",
            "| 7500.0|  8.0|                 JEK|  7 years|MORTGAGE| 45000.0| Fully Paid|             other| KS| 7.17|795.0|799.0|\n",
            "+-------+-----+--------------------+---------+--------+--------+-----------+------------------+---+-----+-----+-----+\n",
            "|25000.0|13.55|Catherine Reitmye...|   1 year|MORTGAGE| 64000.0|Charged Off|    major_purchase| CT| 13.5|695.0|699.0|\n",
            "| 6700.0|12.92|                NULL| < 1 year|    RENT| 19368.0| Fully Paid|debt_consolidation| CA|15.06|665.0|669.0|\n",
            "| 7500.0|12.92| HCA  Medical Center|   1 year|    RENT| 50000.0|Charged Off|             other| VA|18.01|670.0|674.0|\n",
            "| 7000.0|12.92|Childrens's Medic...|  9 years|MORTGAGE| 82000.0| Fully Paid|       credit_card| OH| 9.06|660.0|664.0|\n",
            "| 6000.0|10.39|                  WM| < 1 year|    RENT| 61000.0| Fully Paid|       credit_card| MA| 9.29|690.0|694.0|\n",
            "| 5800.0|11.97|           Team Ford|  7 years|MORTGAGE| 89018.0| Fully Paid|       credit_card| NV|14.59|675.0|679.0|\n",
            "| 2000.0| 7.68|      SourceCorp Inc| < 1 year|    RENT| 80004.0| Fully Paid|             other| CO|11.46|760.0|764.0|\n",
            "| 6600.0|10.71|   Imhoff Eye Center|   1 year|MORTGAGE| 47000.0|Charged Off|  home_improvement| GA| 13.3|700.0|704.0|\n",
            "| 7500.0|  8.0|Along Side Minist...|  2 years|MORTGAGE| 44000.0| Fully Paid|             other| AZ| 0.95|795.0|799.0|\n",
            "| 5000.0| 9.45|                NULL| < 1 year|    RENT| 40000.0| Fully Paid|debt_consolidation| NY|15.06|725.0|729.0|\n",
            "| 7000.0|11.66|     bd construction|10+ years|     OWN| 65000.0| Fully Paid|  home_improvement| MN|19.68|685.0|689.0|\n",
            "| 7000.0|10.08|Vacuum Barrier Al...|  8 years|MORTGAGE|100000.0| Fully Paid|             other| CA|21.54|740.0|744.0|\n",
            "| 6000.0|10.08|       DMS Marketing|   1 year|    RENT| 48000.0|Charged Off|debt_consolidation| CA|  9.3|705.0|709.0|\n",
            "| 7000.0| 8.63| State of California|10+ years|MORTGAGE| 85000.0| Fully Paid|           wedding| CA|18.52|745.0|749.0|\n",
            "| 7500.0|  8.0|  amerisource bergen|  4 years|   OTHER|125000.0| Fully Paid|             other| TX| 5.46|795.0|799.0|\n",
            "| 7500.0|11.03|     Camelot Schools|   1 year|    RENT|105000.0| Fully Paid|debt_consolidation| IL|11.14|690.0|694.0|\n",
            "| 7500.0|12.29|                NULL| < 1 year|    RENT| 35300.0| Fully Paid|       credit_card| CA|14.96|675.0|679.0|\n",
            "| 7000.0| 8.63|      Restaurant Eve| < 1 year|    RENT| 46800.0| Fully Paid|            moving| VA|12.23|725.0|729.0|\n",
            "| 7500.0|11.03|Atkinson Manageme...|10+ years|MORTGAGE| 60000.0| Fully Paid|             other| IL|10.94|685.0|689.0|\n",
            "| 7500.0|11.34|Hospital for Spec...| < 1 year|MORTGAGE| 97000.0| Fully Paid|       credit_card| NY|17.15|685.0|689.0|\n",
            "+-------+-----+--------------------+---------+--------+--------+-----------+------------------+---+-----+-----+-----+\n",
            "only showing top 20 rows\n",
            "\n"
          ]
        }
      ]
    },
    {
      "cell_type": "code",
      "source": [
        "# Read the entire csv partition collectively\n",
        "partition_accepted_df = spark.read.format(\"csv\").option(\"header\", True)\\\n",
        ".load(\"/content/drive/MyDrive/Lending_Club_Data_Source/accepted_parquet_csv\")"
      ],
      "metadata": {
        "id": "_sb59d2FWlGL"
      },
      "execution_count": 10,
      "outputs": []
    },
    {
      "cell_type": "code",
      "source": [
        "# Display the partitions csv\n",
        "partition_accepted_df.show()"
      ],
      "metadata": {
        "colab": {
          "base_uri": "https://localhost:8080/"
        },
        "id": "4mqzr0QrXITe",
        "outputId": "076b7e27-174f-47dd-d608-f38d3f47323c"
      },
      "execution_count": 11,
      "outputs": [
        {
          "output_type": "stream",
          "name": "stdout",
          "text": [
            "+-------+-----+--------------------+---------+--------+--------+-----------+------------------+---+-----+-----+-----+--------+\n",
            "| 5000.0|17.27|          Bus driver|10+ years|    RENT| 62000.0| Fully Paid|       credit_card| WI|10.28|660.0|664.0| issue_d|\n",
            "+-------+-----+--------------------+---------+--------+--------+-----------+------------------+---+-----+-----+-----+--------+\n",
            "|22000.0| 6.49| Key Account Manager|10+ years|MORTGAGE|134000.0|    Current|debt_consolidation| FL|26.33|715.0|719.0|Mar-2016|\n",
            "|30000.0|10.75|             Manager|  2 years|MORTGAGE|125000.0| Fully Paid|debt_consolidation| TX|22.14|730.0|734.0|Mar-2016|\n",
            "|10000.0|16.29|           Front end|  3 years|    RENT| 40000.0|Charged Off|debt_consolidation| NY|12.42|715.0|719.0|Mar-2016|\n",
            "|12000.0| 9.75|     Project Manager| < 1 year|    RENT|120000.0|    Current|debt_consolidation| VA|11.46|730.0|734.0|Mar-2016|\n",
            "|30000.0|12.99|               sales|  9 years|    RENT| 70000.0|    Current|debt_consolidation| WI|19.44|700.0|704.0|Mar-2016|\n",
            "|12000.0|11.47|          Supervisor|10+ years|    RENT| 30000.0|    Current|debt_consolidation| CO|40.76|815.0|819.0|Mar-2016|\n",
            "|15000.0| 9.75|          Technician|   1 year|MORTGAGE| 60000.0|Charged Off|debt_consolidation| FL| 5.73|705.0|709.0|Mar-2016|\n",
            "| 8400.0|13.67|               owner|10+ years|    RENT| 55000.0|Charged Off|    small_business| NJ|27.91|700.0|704.0|Mar-2016|\n",
            "|20000.0|12.99|  Jail Administrator|10+ years|MORTGAGE| 58000.0| Fully Paid|debt_consolidation| MI|16.79|675.0|679.0|Mar-2016|\n",
            "|11275.0|15.31|Licensing Specialist| < 1 year|MORTGAGE| 35000.0| Fully Paid|       credit_card| NC|20.47|685.0|689.0|Mar-2016|\n",
            "| 5625.0|18.25|   Roads and grounds|10+ years|MORTGAGE| 53328.0| Fully Paid|  home_improvement| OR|10.51|695.0|699.0|Mar-2016|\n",
            "| 8000.0|10.75|                  Vp|  5 years|    RENT| 73000.0|    Current|debt_consolidation| CA|10.85|735.0|739.0|Mar-2016|\n",
            "|16000.0| 9.75| CHEMICAL SPECIALIST|10+ years|     OWN|120000.0|    Current|debt_consolidation| CT|13.68|665.0|669.0|Mar-2016|\n",
            "|10000.0| 8.39|    Internet Manager| < 1 year|    RENT| 48000.0|    Current|debt_consolidation| VA|29.58|665.0|669.0|Mar-2016|\n",
            "|18000.0| 9.16|      Office Manager|  4 years|     OWN| 62400.0|    Current|debt_consolidation| TX| 20.4|685.0|689.0|Mar-2016|\n",
            "| 6000.0|10.75|     Traffic manager|  8 years|    RENT| 35000.0| Fully Paid|debt_consolidation| TX|20.58|680.0|684.0|Mar-2016|\n",
            "|14950.0|11.99|           Bartender|  3 years|MORTGAGE| 34000.0| Fully Paid|       credit_card| FL|17.05|680.0|684.0|Mar-2016|\n",
            "|35000.0|18.25|         Electrician|10+ years|MORTGAGE|134000.0| Fully Paid|debt_consolidation| IL|25.69|675.0|679.0|Mar-2016|\n",
            "|12800.0|11.99|LOGISTICS COORDIN...|  6 years|MORTGAGE| 53000.0|    Current|       credit_card| FL|20.99|665.0|669.0|Mar-2016|\n",
            "|18000.0|12.99|             Captain|10+ years|MORTGAGE|199000.0| Fully Paid|  home_improvement| NY| 9.52|670.0|674.0|Mar-2016|\n",
            "+-------+-----+--------------------+---------+--------+--------+-----------+------------------+---+-----+-----+-----+--------+\n",
            "only showing top 20 rows\n",
            "\n"
          ]
        }
      ]
    },
    {
      "cell_type": "code",
      "source": [
        "#Un-cached the accepted table\n",
        "spark.sql(\"uncache table accepted\")"
      ],
      "metadata": {
        "colab": {
          "base_uri": "https://localhost:8080/"
        },
        "id": "mfCPNOj-XjHH",
        "outputId": "9f2756d2-3b6e-4370-a737-9478df75701f"
      },
      "execution_count": 12,
      "outputs": [
        {
          "output_type": "execute_result",
          "data": {
            "text/plain": [
              "DataFrame[]"
            ]
          },
          "metadata": {},
          "execution_count": 12
        }
      ]
    },
    {
      "cell_type": "code",
      "source": [
        "# Check to see if the table is cached\n",
        "if spark.catalog.isCached('accepted'):\n",
        "  print('accepted dataset table is cached')\n",
        "else:\n",
        "  print('accepted dataset table is not there')"
      ],
      "metadata": {
        "colab": {
          "base_uri": "https://localhost:8080/"
        },
        "id": "5iI0gQaXXpw4",
        "outputId": "803f7521-cf8a-4707-eed4-cfb4d93f9981"
      },
      "execution_count": 13,
      "outputs": [
        {
          "output_type": "stream",
          "name": "stdout",
          "text": [
            "accepted dataset table is not there\n"
          ]
        }
      ]
    },
    {
      "cell_type": "markdown",
      "source": [
        "Import rejected dataset, cache temp table and partitioned/export the data into CSV"
      ],
      "metadata": {
        "id": "gD0yVT47WGmK"
      }
    },
    {
      "cell_type": "code",
      "source": [
        "# Read in the loan rejection data csv\n",
        "\n",
        "url_2 = \"/content/drive/MyDrive/Lending_Club_Data_Source/rejected_2007_to_2018Q4.csv\"\n",
        "\n",
        "spark.sparkContext.addFile(url_2)\n",
        "loan_reject_df = spark.read.csv(SparkFiles.get(\"rejected_2007_to_2018Q4.csv\"), sep=',', header=True)\n",
        "\n",
        "loan_reject_df.show()"
      ],
      "metadata": {
        "id": "-1M4wxqpB7nE",
        "outputId": "91cce6be-2803-42cd-c2d5-58bac290e9fe",
        "colab": {
          "base_uri": "https://localhost:8080/"
        }
      },
      "execution_count": 16,
      "outputs": [
        {
          "output_type": "stream",
          "name": "stdout",
          "text": [
            "+-------------+----------+--------------------+----------+------+--------+-----+-----------------+-----------+\n",
            "|amt_requested|      date|             purpose|risk_score|   dti|zip_code|state|employment_length|policy_code|\n",
            "+-------------+----------+--------------------+----------+------+--------+-----+-----------------+-----------+\n",
            "|       1000.0|2007-05-26|Wedding Covered b...|     693.0|   10%|   481xx|   NM|          4 years|        0.0|\n",
            "|       1000.0|2007-05-26|  Consolidating Debt|     703.0|   10%|   010xx|   MA|         < 1 year|        0.0|\n",
            "|      11000.0|2007-05-27|Want to consolida...|     715.0|   10%|   212xx|   MD|           1 year|        0.0|\n",
            "|       6000.0|2007-05-27|             waksman|     698.0|38.64%|   017xx|   MA|         < 1 year|        0.0|\n",
            "|       1500.0|2007-05-27|              mdrigo|     509.0| 9.43%|   209xx|   MD|         < 1 year|        0.0|\n",
            "|      15000.0|2007-05-27|          Trinfiniti|     645.0|    0%|   105xx|   NY|          3 years|        0.0|\n",
            "|      10000.0|2007-05-27|         NOTIFYi Inc|     693.0|   10%|   210xx|   MD|         < 1 year|        0.0|\n",
            "|       3900.0|2007-05-27|         For Justin.|     700.0|   10%|   469xx|   IN|          2 years|        0.0|\n",
            "|       3000.0|2007-05-28|              title?|     694.0|   10%|   808xx|   CO|          4 years|        0.0|\n",
            "|       2500.0|2007-05-28|            timgerst|     573.0|11.76%|   407xx|   KY|          4 years|        0.0|\n",
            "|       3900.0|2007-05-28| need to consolidate|     710.0|   10%|   705xx|   LA|        10+ years|        0.0|\n",
            "|       1000.0|2007-05-28|          sixstrings|     680.0|   10%|   424xx|   KY|           1 year|        0.0|\n",
            "|       3000.0|2007-05-28|          bmoore5110|     688.0|   10%|   190xx|   PA|         < 1 year|        0.0|\n",
            "|       1500.0|2007-05-28|            MHarkins|     704.0|   10%|   189xx|   PA|          3 years|        0.0|\n",
            "|       1000.0|2007-05-28|              Moving|     694.0|   10%|   354xx|   AL|         < 1 year|        0.0|\n",
            "|       8000.0|2007-05-28|Recent College Gr...|     708.0|   10%|   374xx|   TN|         < 1 year|        0.0|\n",
            "|      12000.0|2007-05-29|    FoundersCafe.com|     685.0|   10%|   770xx|   TX|          3 years|        0.0|\n",
            "|       1000.0|2007-05-29|        UChicago2004|     698.0|   10%|   207xx|   MD|          3 years|        0.0|\n",
            "|      15000.0|2007-05-29|Cancer is Killing...|     680.0|   10%|   432xx|   OH|         < 1 year|        0.0|\n",
            "|       5000.0|2007-05-29|2006-2007 College...|     680.0|   10%|   011xx|   MA|         < 1 year|        0.0|\n",
            "+-------------+----------+--------------------+----------+------+--------+-----+-----------------+-----------+\n",
            "only showing top 20 rows\n",
            "\n"
          ]
        }
      ]
    },
    {
      "cell_type": "code",
      "source": [
        "loan_reject_df.createOrReplaceTempView(\"rejected\")"
      ],
      "metadata": {
        "id": "I72lzWTesZ3L"
      },
      "execution_count": 17,
      "outputs": []
    },
    {
      "cell_type": "code",
      "source": [
        "# Cache the Rejected dataset table\n",
        "spark.sql(\"cache table rejected\")"
      ],
      "metadata": {
        "id": "1Avt9_cYCgSc",
        "colab": {
          "base_uri": "https://localhost:8080/"
        },
        "outputId": "41b788b7-218d-4ce2-ec4e-f062198b1eba"
      },
      "execution_count": 18,
      "outputs": [
        {
          "output_type": "execute_result",
          "data": {
            "text/plain": [
              "DataFrame[]"
            ]
          },
          "metadata": {},
          "execution_count": 18
        }
      ]
    },
    {
      "cell_type": "code",
      "source": [
        "# Review the rejected table to determine it's use of columns\n",
        "# Tables that we're keeping -->>: amt_requested|date|purpose|risk_score|dti|zip_code|state|employment_length|policy_code\n",
        "\n",
        "reject_df = spark.sql(\"\"\" SELECT\n",
        "        amt_requested,\n",
        "        YEAR(date) AS YEAR,\n",
        "        purpose,\n",
        "        risk_score,\n",
        "        dti,\n",
        "        zip_code,\n",
        "        state,\n",
        "        employment_length\n",
        "        FROM rejected\n",
        "        ORDER BY YEAR\n",
        "    \"\"\")\n",
        "\n",
        "reject_df.show()"
      ],
      "metadata": {
        "id": "JflNKbkGBW-C",
        "colab": {
          "base_uri": "https://localhost:8080/"
        },
        "outputId": "3abd7296-0f63-4b27-9925-82ebf925bd07"
      },
      "execution_count": 22,
      "outputs": [
        {
          "output_type": "stream",
          "name": "stdout",
          "text": [
            "+-------------+----+--------------------+----------+------+--------+-----+-----------------+\n",
            "|amt_requested|YEAR|             purpose|risk_score|   dti|zip_code|state|employment_length|\n",
            "+-------------+----+--------------------+----------+------+--------+-----+-----------------+\n",
            "|       1000.0|2007|Wedding Covered b...|     693.0|   10%|   481xx|   NM|          4 years|\n",
            "|       1000.0|2007|  Consolidating Debt|     703.0|   10%|   010xx|   MA|         < 1 year|\n",
            "|      11000.0|2007|Want to consolida...|     715.0|   10%|   212xx|   MD|           1 year|\n",
            "|       6000.0|2007|             waksman|     698.0|38.64%|   017xx|   MA|         < 1 year|\n",
            "|       1500.0|2007|              mdrigo|     509.0| 9.43%|   209xx|   MD|         < 1 year|\n",
            "|      15000.0|2007|          Trinfiniti|     645.0|    0%|   105xx|   NY|          3 years|\n",
            "|      10000.0|2007|         NOTIFYi Inc|     693.0|   10%|   210xx|   MD|         < 1 year|\n",
            "|       3900.0|2007|         For Justin.|     700.0|   10%|   469xx|   IN|          2 years|\n",
            "|       3000.0|2007|              title?|     694.0|   10%|   808xx|   CO|          4 years|\n",
            "|       2500.0|2007|            timgerst|     573.0|11.76%|   407xx|   KY|          4 years|\n",
            "|       3900.0|2007| need to consolidate|     710.0|   10%|   705xx|   LA|        10+ years|\n",
            "|       1000.0|2007|          sixstrings|     680.0|   10%|   424xx|   KY|           1 year|\n",
            "|       3000.0|2007|          bmoore5110|     688.0|   10%|   190xx|   PA|         < 1 year|\n",
            "|       1500.0|2007|            MHarkins|     704.0|   10%|   189xx|   PA|          3 years|\n",
            "|       1000.0|2007|              Moving|     694.0|   10%|   354xx|   AL|         < 1 year|\n",
            "|       8000.0|2007|Recent College Gr...|     708.0|   10%|   374xx|   TN|         < 1 year|\n",
            "|      12000.0|2007|    FoundersCafe.com|     685.0|   10%|   770xx|   TX|          3 years|\n",
            "|       1000.0|2007|        UChicago2004|     698.0|   10%|   207xx|   MD|          3 years|\n",
            "|      15000.0|2007|Cancer is Killing...|     680.0|   10%|   432xx|   OH|         < 1 year|\n",
            "|       5000.0|2007|2006-2007 College...|     680.0|   10%|   011xx|   MA|         < 1 year|\n",
            "+-------------+----+--------------------+----------+------+--------+-----+-----------------+\n",
            "only showing top 20 rows\n",
            "\n"
          ]
        }
      ]
    },
    {
      "cell_type": "code",
      "source": [
        "reject_df.write.partitionBy(\"YEAR\").mode(\"overwrite\")\\\n",
        ".csv(\"/content/drive/MyDrive/Lending_Club_Data_Source/rejected_partition_csv\")"
      ],
      "metadata": {
        "id": "wEIo4thNk6MB"
      },
      "execution_count": 26,
      "outputs": []
    },
    {
      "cell_type": "code",
      "source": [
        "#Test by reading the partioned data\n",
        "readPartitionData = spark.read.option(\"header\", True)\\\n",
        ".csv(\"/content/drive/MyDrive/Lending_Club_Data_Source/rejected_partition_csv/YEAR=2007\")\n",
        "readPartitionData.printSchema()\n",
        "readPartitionData.show()"
      ],
      "metadata": {
        "colab": {
          "base_uri": "https://localhost:8080/"
        },
        "id": "ZwTRp23O5eul",
        "outputId": "8dbba605-7c23-4af5-fa1f-adef398e0ab2"
      },
      "execution_count": 28,
      "outputs": [
        {
          "output_type": "stream",
          "name": "stdout",
          "text": [
            "root\n",
            " |-- 1000.0: string (nullable = true)\n",
            " |-- Wedding Covered but No Honeymoon: string (nullable = true)\n",
            " |-- 693.0: string (nullable = true)\n",
            " |-- 10%: string (nullable = true)\n",
            " |-- 481xx: string (nullable = true)\n",
            " |-- NM: string (nullable = true)\n",
            " |-- 4 years: string (nullable = true)\n",
            "\n",
            "+-------+--------------------------------+-----+------+-----+---+---------+\n",
            "| 1000.0|Wedding Covered but No Honeymoon|693.0|   10%|481xx| NM|  4 years|\n",
            "+-------+--------------------------------+-----+------+-----+---+---------+\n",
            "| 1000.0|              Consolidating Debt|703.0|   10%|010xx| MA| < 1 year|\n",
            "|11000.0|            Want to consolida...|715.0|   10%|212xx| MD|   1 year|\n",
            "| 6000.0|                         waksman|698.0|38.64%|017xx| MA| < 1 year|\n",
            "| 1500.0|                          mdrigo|509.0| 9.43%|209xx| MD| < 1 year|\n",
            "|15000.0|                      Trinfiniti|645.0|    0%|105xx| NY|  3 years|\n",
            "|10000.0|                     NOTIFYi Inc|693.0|   10%|210xx| MD| < 1 year|\n",
            "| 3900.0|                     For Justin.|700.0|   10%|469xx| IN|  2 years|\n",
            "| 3000.0|                          title?|694.0|   10%|808xx| CO|  4 years|\n",
            "| 2500.0|                        timgerst|573.0|11.76%|407xx| KY|  4 years|\n",
            "| 3900.0|             need to consolidate|710.0|   10%|705xx| LA|10+ years|\n",
            "| 1000.0|                      sixstrings|680.0|   10%|424xx| KY|   1 year|\n",
            "| 3000.0|                      bmoore5110|688.0|   10%|190xx| PA| < 1 year|\n",
            "| 1500.0|                        MHarkins|704.0|   10%|189xx| PA|  3 years|\n",
            "| 1000.0|                          Moving|694.0|   10%|354xx| AL| < 1 year|\n",
            "| 8000.0|            Recent College Gr...|708.0|   10%|374xx| TN| < 1 year|\n",
            "|12000.0|                FoundersCafe.com|685.0|   10%|770xx| TX|  3 years|\n",
            "| 1000.0|                    UChicago2004|698.0|   10%|207xx| MD|  3 years|\n",
            "|15000.0|            Cancer is Killing...|680.0|   10%|432xx| OH| < 1 year|\n",
            "| 5000.0|            2006-2007 College...|680.0|   10%|011xx| MA| < 1 year|\n",
            "|15000.0|                           twbmc|712.0|   10%|773xx| TX| < 1 year|\n",
            "+-------+--------------------------------+-----+------+-----+---+---------+\n",
            "only showing top 20 rows\n",
            "\n"
          ]
        }
      ]
    },
    {
      "cell_type": "code",
      "source": [
        "# Read the entire csv partition collectively\n",
        "partition_rejected_df = spark.read.format(\"csv\").option(\"header\", True)\\\n",
        ".load(\"/content/drive/MyDrive/Lending_Club_Data_Source/rejected_partition_csv\")"
      ],
      "metadata": {
        "id": "DAc8PID459GK"
      },
      "execution_count": 29,
      "outputs": []
    },
    {
      "cell_type": "code",
      "source": [
        "# display the full partitioned data table\n",
        "partition_rejected_df.show()"
      ],
      "metadata": {
        "colab": {
          "base_uri": "https://localhost:8080/"
        },
        "id": "jwLKTWyK57gC",
        "outputId": "de5d3bb5-5540-46e9-c507-7f9c7b50a14c"
      },
      "execution_count": 30,
      "outputs": [
        {
          "output_type": "stream",
          "name": "stdout",
          "text": [
            "+-------+------------------+-----+------+-----+---+---------+----+\n",
            "|30000.0|debt_consolidation|681.0|35.65%|958xx| CA| < 1 year|YEAR|\n",
            "+-------+------------------+-----+------+-----+---+---------+----+\n",
            "|30000.0|       credit_card| NULL|16.36%|802xx| CO| < 1 year|2015|\n",
            "| 5000.0|debt_consolidation|648.0|10.62%|945xx| CA| < 1 year|2015|\n",
            "|15000.0|debt_consolidation| NULL|20.13%|117xx| NY| < 1 year|2015|\n",
            "|10000.0|Debt consolidation|721.0|10.02%|750xx| TX|  7 years|2015|\n",
            "| 1500.0|          Business| NULL|21.06%|472xx| IN|10+ years|2015|\n",
            "|10000.0|    major_purchase|659.0|19.05%|853xx| AZ| < 1 year|2015|\n",
            "| 1000.0|             other| NULL| 15.6%|891xx| NV|  5 years|2015|\n",
            "| 5000.0|debt_consolidation|501.0|10.73%|475xx| IN| < 1 year|2015|\n",
            "|35000.0|          Business| NULL|26.53%|780xx| TX|10+ years|2015|\n",
            "| 6000.0|debt_consolidation|551.0| 8.71%|019xx| MA| < 1 year|2015|\n",
            "|10000.0|               car| NULL| 7.35%|906xx| CA| < 1 year|2015|\n",
            "|10000.0|debt_consolidation|633.0|12.57%|840xx| UT| < 1 year|2015|\n",
            "| 5000.0|             other| NULL|   -1%|300xx| GA|  5 years|2015|\n",
            "|15000.0|debt_consolidation|658.0|43.52%|913xx| CA| < 1 year|2015|\n",
            "|20000.0|    small_business|622.0|33.93%|349xx| FL| < 1 year|2015|\n",
            "|20000.0|            moving|573.0|18.53%|770xx| TX| < 1 year|2015|\n",
            "| 2000.0|             other| NULL| 15.1%|347xx| FL| < 1 year|2015|\n",
            "|25000.0|             house|640.0| 5.06%|606xx| IL| < 1 year|2015|\n",
            "| 3000.0|debt_consolidation| NULL|77.34%|629xx| IL| < 1 year|2015|\n",
            "|15000.0|debt_consolidation|654.0|20.08%|917xx| CA| < 1 year|2015|\n",
            "+-------+------------------+-----+------+-----+---+---------+----+\n",
            "only showing top 20 rows\n",
            "\n"
          ]
        }
      ]
    },
    {
      "cell_type": "code",
      "source": [
        "# Uncache the rejected dataset table\n",
        "spark.sql(\"uncache table rejected\")"
      ],
      "metadata": {
        "id": "InUAIfjcheO7",
        "colab": {
          "base_uri": "https://localhost:8080/"
        },
        "outputId": "0ab65892-8cbc-429b-a3f2-a177716e138f"
      },
      "execution_count": 31,
      "outputs": [
        {
          "output_type": "execute_result",
          "data": {
            "text/plain": [
              "DataFrame[]"
            ]
          },
          "metadata": {},
          "execution_count": 31
        }
      ]
    },
    {
      "cell_type": "code",
      "source": [
        "# Check to see if the table is cached\n",
        "if spark.catalog.isCached('rejected'):\n",
        "  print('rejected dataset table is cached')\n",
        "else:\n",
        "  print('rejected dataset table is not there')"
      ],
      "metadata": {
        "colab": {
          "base_uri": "https://localhost:8080/"
        },
        "outputId": "3f8f68b9-5692-492e-aac8-11798379127b",
        "id": "20MaUT_26cO7"
      },
      "execution_count": 32,
      "outputs": [
        {
          "output_type": "stream",
          "name": "stdout",
          "text": [
            "rejected dataset table is not there\n"
          ]
        }
      ]
    }
  ],
  "metadata": {
    "colab": {
      "provenance": [],
      "include_colab_link": true
    },
    "kernelspec": {
      "display_name": "Python 3",
      "name": "python3"
    },
    "language_info": {
      "codemirror_mode": {
        "name": "ipython",
        "version": 3
      },
      "file_extension": ".py",
      "mimetype": "text/x-python",
      "name": "python",
      "nbconvert_exporter": "python",
      "pygments_lexer": "ipython3",
      "version": "3.10.13"
    }
  },
  "nbformat": 4,
  "nbformat_minor": 0
}